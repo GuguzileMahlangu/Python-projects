{
 "cells": [
  {
   "cell_type": "code",
   "execution_count": 2,
   "id": "14cf101f",
   "metadata": {},
   "outputs": [
    {
     "name": "stdout",
     "output_type": "stream",
     "text": [
      "Iloveyou\n"
     ]
    }
   ],
   "source": [
    "print('Iloveyou')"
   ]
  },
  {
   "cell_type": "markdown",
   "id": "f3a348f8",
   "metadata": {},
   "source": [
    "# Variables in python"
   ]
  },
  {
   "cell_type": "code",
   "execution_count": 2,
   "id": "ce5b5642",
   "metadata": {},
   "outputs": [
    {
     "name": "stdout",
     "output_type": "stream",
     "text": [
      "23\n"
     ]
    }
   ],
   "source": [
    "x = 23\n",
    "\n",
    "print (x)"
   ]
  },
  {
   "cell_type": "code",
   "execution_count": 3,
   "id": "9547b773",
   "metadata": {},
   "outputs": [
    {
     "data": {
      "text/plain": [
       "int"
      ]
     },
     "execution_count": 3,
     "metadata": {},
     "output_type": "execute_result"
    }
   ],
   "source": [
    "type (x)"
   ]
  },
  {
   "cell_type": "code",
   "execution_count": 4,
   "id": "31bb051b",
   "metadata": {},
   "outputs": [
    {
     "name": "stdout",
     "output_type": "stream",
     "text": [
      "Mint chocolate chip\n"
     ]
    }
   ],
   "source": [
    "y = 'Mint chocolate chip'\n",
    "\n",
    "print (y)"
   ]
  },
  {
   "cell_type": "code",
   "execution_count": 5,
   "id": "b5e7c4c7",
   "metadata": {},
   "outputs": [
    {
     "data": {
      "text/plain": [
       "str"
      ]
     },
     "execution_count": 5,
     "metadata": {},
     "output_type": "execute_result"
    }
   ],
   "source": [
    "type(y)"
   ]
  },
  {
   "cell_type": "code",
   "execution_count": 7,
   "id": "5f7a60ee",
   "metadata": {},
   "outputs": [
    {
     "name": "stdout",
     "output_type": "stream",
     "text": [
      "Mint chocolate chip\n"
     ]
    }
   ],
   "source": [
    "y = 'chocolate'\n",
    "y = 'Mint chocolate chip'\n",
    "\n",
    "print (y)"
   ]
  },
  {
   "cell_type": "code",
   "execution_count": 9,
   "id": "da08b6c0",
   "metadata": {},
   "outputs": [
    {
     "name": "stdout",
     "output_type": "stream",
     "text": [
      "chocolate\n",
      "vanilla\n",
      "butterscotch\n"
     ]
    }
   ],
   "source": [
    "x, y,z = 'chocolate', 'vanilla', 'butterscotch'\n",
    "\n",
    "print (x)\n",
    "print (y)\n",
    "print (z)"
   ]
  },
  {
   "cell_type": "code",
   "execution_count": 10,
   "id": "3e211395",
   "metadata": {},
   "outputs": [
    {
     "name": "stdout",
     "output_type": "stream",
     "text": [
      "chocolate\n",
      "vanilla\n",
      "butterscotch\n"
     ]
    }
   ],
   "source": [
    "ice_cream = ['chocolate', 'vanilla', 'butterscotch']\n",
    "\n",
    "x, y, z = ice_cream\n",
    "\n",
    "print (x)\n",
    "print (y)\n",
    "print (z)"
   ]
  },
  {
   "cell_type": "code",
   "execution_count": null,
   "id": "47ee1441",
   "metadata": {},
   "outputs": [],
   "source": [
    "# Camel Case\n",
    "# Test Variable Case\n",
    "\n",
    "testVariableCase = 'Orange'"
   ]
  },
  {
   "cell_type": "code",
   "execution_count": null,
   "id": "fe4d92b4",
   "metadata": {},
   "outputs": [],
   "source": [
    "# Pascal Case\n",
    "# Test Variable Case\n",
    "\n",
    "TestVariableCase = 'Orange'"
   ]
  },
  {
   "cell_type": "code",
   "execution_count": null,
   "id": "03408134",
   "metadata": {},
   "outputs": [],
   "source": [
    "# Snake Case\n",
    "# Test Variable Case\n",
    "\n",
    "test_variable_case = 'Orange'\n",
    "\n",
    "# the best one to use because it improves readabilty"
   ]
  },
  {
   "cell_type": "code",
   "execution_count": null,
   "id": "2c4458f0",
   "metadata": {},
   "outputs": [],
   "source": [
    "# good variable names\n",
    "\n",
    "testvar = 'Orange'\n",
    "test_var = 'Orange'\n",
    "_test_var = 'Orange'\n",
    "testVar = 'Orange'\n",
    "TestVar = 'Orange'\n",
    "TestVar2 = 'Orange'"
   ]
  },
  {
   "cell_type": "code",
   "execution_count": 11,
   "id": "0c016149",
   "metadata": {},
   "outputs": [
    {
     "name": "stdout",
     "output_type": "stream",
     "text": [
      "ICE CREAM IS MY FAVORITE.\n"
     ]
    }
   ],
   "source": [
    "X = 'ICE CREAM IS MY FAVORITE' + '.'\n",
    "print (X)"
   ]
  },
  {
   "cell_type": "code",
   "execution_count": null,
   "id": "3e43afdb",
   "metadata": {},
   "outputs": [],
   "source": [
    "x = 'ice cream'\n",
    "y = 1\n",
    "\n",
    "print (x,y)"
   ]
  },
  {
   "cell_type": "markdown",
   "id": "261d2e71",
   "metadata": {},
   "source": [
    "# Data types"
   ]
  },
  {
   "cell_type": "code",
   "execution_count": 13,
   "id": "2ff84d31",
   "metadata": {},
   "outputs": [
    {
     "data": {
      "text/plain": [
       "int"
      ]
     },
     "execution_count": 13,
     "metadata": {},
     "output_type": "execute_result"
    }
   ],
   "source": [
    "type (-12 + 200)"
   ]
  },
  {
   "cell_type": "code",
   "execution_count": 14,
   "id": "518680a4",
   "metadata": {},
   "outputs": [
    {
     "data": {
      "text/plain": [
       "float"
      ]
     },
     "execution_count": 14,
     "metadata": {},
     "output_type": "execute_result"
    }
   ],
   "source": [
    "type (-12 + 10.25)"
   ]
  },
  {
   "cell_type": "code",
   "execution_count": 15,
   "id": "b485cb30",
   "metadata": {},
   "outputs": [
    {
     "data": {
      "text/plain": [
       "complex"
      ]
     },
     "execution_count": 15,
     "metadata": {},
     "output_type": "execute_result"
    }
   ],
   "source": [
    "type (-12 + 3j)"
   ]
  },
  {
   "cell_type": "code",
   "execution_count": 17,
   "id": "f0799953",
   "metadata": {},
   "outputs": [
    {
     "data": {
      "text/plain": [
       "bool"
      ]
     },
     "execution_count": 17,
     "metadata": {},
     "output_type": "execute_result"
    }
   ],
   "source": [
    "# Boolean\n",
    "\n",
    "type (1 > 5)"
   ]
  },
  {
   "cell_type": "code",
   "execution_count": 18,
   "id": "a1e95d6a",
   "metadata": {},
   "outputs": [
    {
     "data": {
      "text/plain": [
       "False"
      ]
     },
     "execution_count": 18,
     "metadata": {},
     "output_type": "execute_result"
    }
   ],
   "source": [
    "1 > 5"
   ]
  },
  {
   "cell_type": "code",
   "execution_count": 19,
   "id": "d8de6d26",
   "metadata": {},
   "outputs": [
    {
     "data": {
      "text/plain": [
       "True"
      ]
     },
     "execution_count": 19,
     "metadata": {},
     "output_type": "execute_result"
    }
   ],
   "source": [
    "1 == 1"
   ]
  },
  {
   "cell_type": "code",
   "execution_count": 20,
   "id": "3e512da1",
   "metadata": {},
   "outputs": [
    {
     "data": {
      "text/plain": [
       "'single quote'"
      ]
     },
     "execution_count": 20,
     "metadata": {},
     "output_type": "execute_result"
    }
   ],
   "source": [
    "# Strings\n",
    "\n",
    "'single quote'"
   ]
  },
  {
   "cell_type": "code",
   "execution_count": 21,
   "id": "d3c771ef",
   "metadata": {},
   "outputs": [
    {
     "data": {
      "text/plain": [
       "'double quote'"
      ]
     },
     "execution_count": 21,
     "metadata": {},
     "output_type": "execute_result"
    }
   ],
   "source": [
    "\"double quote\""
   ]
  },
  {
   "cell_type": "code",
   "execution_count": 23,
   "id": "15da5e6b",
   "metadata": {},
   "outputs": [],
   "source": [
    "multiline = \"\"\"\n",
    "the ice cream that I like so much,\n",
    "was sold out at the shop yesterday,\n",
    "and that really broke my heart,\n",
    "and Im still hurt.\n",
    "\n",
    "\"\"\""
   ]
  },
  {
   "cell_type": "code",
   "execution_count": 24,
   "id": "e458ceaf",
   "metadata": {},
   "outputs": [
    {
     "name": "stdout",
     "output_type": "stream",
     "text": [
      "\n",
      "the ice cream that I like so much,\n",
      "was sold out at the shop yesterday,\n",
      "and that really broke my heart,\n",
      "and Im still hurt.\n",
      "\n",
      "\n"
     ]
    }
   ],
   "source": [
    "print (multiline)"
   ]
  },
  {
   "cell_type": "code",
   "execution_count": 25,
   "id": "23d7c163",
   "metadata": {},
   "outputs": [],
   "source": [
    "a = 'Hello World'"
   ]
  },
  {
   "cell_type": "code",
   "execution_count": 27,
   "id": "2393262a",
   "metadata": {},
   "outputs": [
    {
     "name": "stdout",
     "output_type": "stream",
     "text": [
      "llo\n"
     ]
    }
   ],
   "source": [
    "print (a[2:5])"
   ]
  },
  {
   "cell_type": "code",
   "execution_count": 29,
   "id": "ad7527cb",
   "metadata": {},
   "outputs": [
    {
     "data": {
      "text/plain": [
       "'Hello WorldHello WorldHello World'"
      ]
     },
     "execution_count": 29,
     "metadata": {},
     "output_type": "execute_result"
    }
   ],
   "source": [
    "a * 3"
   ]
  },
  {
   "cell_type": "code",
   "execution_count": 30,
   "id": "cf0e1526",
   "metadata": {},
   "outputs": [
    {
     "data": {
      "text/plain": [
       "[1, 2, 3]"
      ]
     },
     "execution_count": 30,
     "metadata": {},
     "output_type": "execute_result"
    }
   ],
   "source": [
    "# Lists\n",
    "\n",
    "[1, 2, 3]"
   ]
  },
  {
   "cell_type": "code",
   "execution_count": 31,
   "id": "22668d52",
   "metadata": {},
   "outputs": [
    {
     "data": {
      "text/plain": [
       "['vanilla', 'strawberry', 'orange']"
      ]
     },
     "execution_count": 31,
     "metadata": {},
     "output_type": "execute_result"
    }
   ],
   "source": [
    "['vanilla', 'strawberry', 'orange']"
   ]
  },
  {
   "cell_type": "code",
   "execution_count": 32,
   "id": "d48bbd61",
   "metadata": {},
   "outputs": [
    {
     "data": {
      "text/plain": [
       "['vanilla', 3, ['scoops', 'spoon'], True]"
      ]
     },
     "execution_count": 32,
     "metadata": {},
     "output_type": "execute_result"
    }
   ],
   "source": [
    "['vanilla', 3, ['scoops', 'spoon'], True]"
   ]
  },
  {
   "cell_type": "code",
   "execution_count": 33,
   "id": "c70ba6c5",
   "metadata": {},
   "outputs": [
    {
     "data": {
      "text/plain": [
       "['vanilla', 'strawberry', 'orange', 'Salted caramel']"
      ]
     },
     "execution_count": 33,
     "metadata": {},
     "output_type": "execute_result"
    }
   ],
   "source": [
    "ice_cream = ['vanilla', 'strawberry', 'orange']\n",
    "\n",
    "ice_cream.append('Salted caramel')\n",
    "\n",
    "ice_cream"
   ]
  },
  {
   "cell_type": "code",
   "execution_count": 34,
   "id": "be872b20",
   "metadata": {},
   "outputs": [
    {
     "data": {
      "text/plain": [
       "['butterscotch', 'strawberry', 'orange', 'Salted caramel']"
      ]
     },
     "execution_count": 34,
     "metadata": {},
     "output_type": "execute_result"
    }
   ],
   "source": [
    "ice_cream[0] = 'butterscotch'\n",
    "\n",
    "ice_cream"
   ]
  },
  {
   "cell_type": "code",
   "execution_count": 35,
   "id": "40780990",
   "metadata": {},
   "outputs": [],
   "source": [
    "nest_list = ['vanilla', 3, ['scoops', 'spoon'], True]"
   ]
  },
  {
   "cell_type": "code",
   "execution_count": 36,
   "id": "1bbce59e",
   "metadata": {},
   "outputs": [
    {
     "data": {
      "text/plain": [
       "'spoon'"
      ]
     },
     "execution_count": 36,
     "metadata": {},
     "output_type": "execute_result"
    }
   ],
   "source": [
    "nest_list[2][1]"
   ]
  },
  {
   "cell_type": "code",
   "execution_count": 37,
   "id": "3b43cb4f",
   "metadata": {},
   "outputs": [],
   "source": [
    "# tuple\n",
    "\n",
    "tuple_scoops = (1,2,3,2,1)"
   ]
  },
  {
   "cell_type": "code",
   "execution_count": 38,
   "id": "895d958e",
   "metadata": {},
   "outputs": [
    {
     "data": {
      "text/plain": [
       "tuple"
      ]
     },
     "execution_count": 38,
     "metadata": {},
     "output_type": "execute_result"
    }
   ],
   "source": [
    "type(tuple_scoops)"
   ]
  },
  {
   "cell_type": "code",
   "execution_count": 39,
   "id": "17b83d83",
   "metadata": {},
   "outputs": [],
   "source": [
    "#sets\n",
    "\n",
    "daily_pints = {1,2,3}"
   ]
  },
  {
   "cell_type": "code",
   "execution_count": 40,
   "id": "6780c6a7",
   "metadata": {},
   "outputs": [
    {
     "data": {
      "text/plain": [
       "set"
      ]
     },
     "execution_count": 40,
     "metadata": {},
     "output_type": "execute_result"
    }
   ],
   "source": [
    "type(daily_pints)"
   ]
  },
  {
   "cell_type": "code",
   "execution_count": 41,
   "id": "4f739c4e",
   "metadata": {},
   "outputs": [
    {
     "name": "stdout",
     "output_type": "stream",
     "text": [
      "{0, 1, 2, 3, 4, 5, 6, 7, 8, 9}\n"
     ]
    }
   ],
   "source": [
    "daily_pints_log = {1,2,3,4,5,3,4,1,6,7,5,8,9,0,0}\n",
    "\n",
    "print (daily_pints_log)"
   ]
  },
  {
   "cell_type": "code",
   "execution_count": 42,
   "id": "578215e9",
   "metadata": {},
   "outputs": [],
   "source": [
    "baby_daily_pints_log = {1,2,5,6,7,8,9,4,4,23,1,0}"
   ]
  },
  {
   "cell_type": "code",
   "execution_count": 43,
   "id": "cb5ee153",
   "metadata": {},
   "outputs": [
    {
     "name": "stdout",
     "output_type": "stream",
     "text": [
      "{0, 1, 2, 3, 4, 5, 6, 7, 8, 9, 23}\n"
     ]
    }
   ],
   "source": [
    "print (baby_daily_pints_log | daily_pints_log)"
   ]
  },
  {
   "cell_type": "code",
   "execution_count": 44,
   "id": "a19a2133",
   "metadata": {},
   "outputs": [
    {
     "name": "stdout",
     "output_type": "stream",
     "text": [
      "{0, 1, 2, 4, 5, 6, 7, 8, 9}\n"
     ]
    }
   ],
   "source": [
    "print (baby_daily_pints_log & daily_pints_log)"
   ]
  },
  {
   "cell_type": "code",
   "execution_count": 45,
   "id": "be39a35b",
   "metadata": {},
   "outputs": [
    {
     "name": "stdout",
     "output_type": "stream",
     "text": [
      "{23}\n"
     ]
    }
   ],
   "source": [
    "print (baby_daily_pints_log - daily_pints_log)"
   ]
  },
  {
   "cell_type": "code",
   "execution_count": 46,
   "id": "ad9d33e1",
   "metadata": {},
   "outputs": [
    {
     "name": "stdout",
     "output_type": "stream",
     "text": [
      "{3, 23}\n"
     ]
    }
   ],
   "source": [
    "print (baby_daily_pints_log ^ daily_pints_log)"
   ]
  },
  {
   "cell_type": "code",
   "execution_count": 47,
   "id": "5739cdbf",
   "metadata": {},
   "outputs": [],
   "source": [
    "# dictionaries\n",
    "# key\\value pair\n",
    "\n",
    "dict_cream = {'name': 'Noah Smith', 'weekly intake': 5, 'favorite ice creams':['butterscotch', 'vanilla']}"
   ]
  },
  {
   "cell_type": "code",
   "execution_count": 48,
   "id": "4e3c0a9b",
   "metadata": {},
   "outputs": [
    {
     "data": {
      "text/plain": [
       "dict"
      ]
     },
     "execution_count": 48,
     "metadata": {},
     "output_type": "execute_result"
    }
   ],
   "source": [
    "type(dict_cream)"
   ]
  },
  {
   "cell_type": "code",
   "execution_count": 49,
   "id": "26b2c37b",
   "metadata": {},
   "outputs": [
    {
     "name": "stdout",
     "output_type": "stream",
     "text": [
      "{'name': 'Noah Smith', 'weekly intake': 5, 'favorite ice creams': ['butterscotch', 'vanilla']}\n"
     ]
    }
   ],
   "source": [
    "print (dict_cream)"
   ]
  },
  {
   "cell_type": "code",
   "execution_count": 51,
   "id": "701c9750",
   "metadata": {},
   "outputs": [
    {
     "data": {
      "text/plain": [
       "dict_keys(['name', 'weekly intake', 'favorite ice creams'])"
      ]
     },
     "execution_count": 51,
     "metadata": {},
     "output_type": "execute_result"
    }
   ],
   "source": [
    "dict_cream.keys()"
   ]
  },
  {
   "cell_type": "code",
   "execution_count": 52,
   "id": "9c43bddf",
   "metadata": {},
   "outputs": [
    {
     "data": {
      "text/plain": [
       "dict_items([('name', 'Noah Smith'), ('weekly intake', 5), ('favorite ice creams', ['butterscotch', 'vanilla'])])"
      ]
     },
     "execution_count": 52,
     "metadata": {},
     "output_type": "execute_result"
    }
   ],
   "source": [
    "dict_cream.items()"
   ]
  },
  {
   "cell_type": "code",
   "execution_count": 53,
   "id": "ea884e5c",
   "metadata": {},
   "outputs": [
    {
     "data": {
      "text/plain": [
       "dict_values(['Noah Smith', 5, ['butterscotch', 'vanilla']])"
      ]
     },
     "execution_count": 53,
     "metadata": {},
     "output_type": "execute_result"
    }
   ],
   "source": [
    "dict_cream.values()"
   ]
  },
  {
   "cell_type": "code",
   "execution_count": 54,
   "id": "d776a6b5",
   "metadata": {},
   "outputs": [
    {
     "data": {
      "text/plain": [
       "'Noah Smith'"
      ]
     },
     "execution_count": 54,
     "metadata": {},
     "output_type": "execute_result"
    }
   ],
   "source": [
    "dict_cream['name']"
   ]
  },
  {
   "cell_type": "code",
   "execution_count": 56,
   "id": "ad955098",
   "metadata": {},
   "outputs": [
    {
     "name": "stdout",
     "output_type": "stream",
     "text": [
      "{'name': 'Leo Smith', 'weekly intake': 5, 'favorite ice creams': ['butterscotch', 'vanilla']}\n"
     ]
    }
   ],
   "source": [
    "dict_cream['name'] = 'Leo Smith'\n",
    "\n",
    "print (dict_cream)"
   ]
  },
  {
   "cell_type": "code",
   "execution_count": 57,
   "id": "6d2b48c9",
   "metadata": {},
   "outputs": [
    {
     "name": "stdout",
     "output_type": "stream",
     "text": [
      "{'name': 'Noah Smith', 'weekly intake': 5, 'favorite ice creams': ['butterscotch', 'vanilla'], 'weight': 200}\n"
     ]
    }
   ],
   "source": [
    "dict_cream.update({'name': 'Noah Smith', 'weekly intake': 5, 'weight': 200})\n",
    "\n",
    "print(dict_cream)"
   ]
  },
  {
   "cell_type": "code",
   "execution_count": 58,
   "id": "920f773d",
   "metadata": {},
   "outputs": [
    {
     "name": "stdout",
     "output_type": "stream",
     "text": [
      "{'name': 'Noah Smith', 'weekly intake': 5, 'favorite ice creams': ['butterscotch', 'vanilla']}\n"
     ]
    }
   ],
   "source": [
    "del dict_cream['weight']\n",
    "\n",
    "print (dict_cream)"
   ]
  },
  {
   "cell_type": "code",
   "execution_count": null,
   "id": "2bafbcb7",
   "metadata": {},
   "outputs": [],
   "source": []
  },
  {
   "cell_type": "markdown",
   "id": "4bd03d8e",
   "metadata": {},
   "source": [
    "# Comparison operators"
   ]
  },
  {
   "cell_type": "code",
   "execution_count": 60,
   "id": "1bce15f6",
   "metadata": {},
   "outputs": [
    {
     "data": {
      "text/plain": [
       "False"
      ]
     },
     "execution_count": 60,
     "metadata": {},
     "output_type": "execute_result"
    }
   ],
   "source": [
    "10 == 5"
   ]
  },
  {
   "cell_type": "code",
   "execution_count": 61,
   "id": "3c7ca770",
   "metadata": {},
   "outputs": [
    {
     "data": {
      "text/plain": [
       "True"
      ]
     },
     "execution_count": 61,
     "metadata": {},
     "output_type": "execute_result"
    }
   ],
   "source": [
    "10 != 50"
   ]
  },
  {
   "cell_type": "code",
   "execution_count": 63,
   "id": "61c69915",
   "metadata": {},
   "outputs": [
    {
     "data": {
      "text/plain": [
       "True"
      ]
     },
     "execution_count": 63,
     "metadata": {},
     "output_type": "execute_result"
    }
   ],
   "source": [
    "x = 'vanlla'\n",
    "y = 'chocolate'\n",
    "\n",
    "x != y"
   ]
  },
  {
   "cell_type": "code",
   "execution_count": 64,
   "id": "2fb80eac",
   "metadata": {},
   "outputs": [
    {
     "data": {
      "text/plain": [
       "True"
      ]
     },
     "execution_count": 64,
     "metadata": {},
     "output_type": "execute_result"
    }
   ],
   "source": [
    "10 <= 10"
   ]
  },
  {
   "cell_type": "markdown",
   "id": "5ff87027",
   "metadata": {},
   "source": [
    "# Logical operators"
   ]
  },
  {
   "cell_type": "code",
   "execution_count": 66,
   "id": "08070222",
   "metadata": {},
   "outputs": [
    {
     "data": {
      "text/plain": [
       "True"
      ]
     },
     "execution_count": 66,
     "metadata": {},
     "output_type": "execute_result"
    }
   ],
   "source": [
    "(60 > 50) and (50 > 10)"
   ]
  },
  {
   "cell_type": "code",
   "execution_count": 67,
   "id": "8b667548",
   "metadata": {},
   "outputs": [
    {
     "data": {
      "text/plain": [
       "True"
      ]
     },
     "execution_count": 67,
     "metadata": {},
     "output_type": "execute_result"
    }
   ],
   "source": [
    "(10 > 50) or (50 > 10)"
   ]
  },
  {
   "cell_type": "code",
   "execution_count": 68,
   "id": "e5c0848b",
   "metadata": {},
   "outputs": [
    {
     "data": {
      "text/plain": [
       "True"
      ]
     },
     "execution_count": 68,
     "metadata": {},
     "output_type": "execute_result"
    }
   ],
   "source": [
    "('vanilla' > 'chocolate') and (50 > 10)"
   ]
  },
  {
   "cell_type": "code",
   "execution_count": 69,
   "id": "43311199",
   "metadata": {},
   "outputs": [
    {
     "data": {
      "text/plain": [
       "False"
      ]
     },
     "execution_count": 69,
     "metadata": {},
     "output_type": "execute_result"
    }
   ],
   "source": [
    "not (50 > 10)"
   ]
  },
  {
   "cell_type": "markdown",
   "id": "d95fa4ee",
   "metadata": {},
   "source": [
    "# Mambership operators"
   ]
  },
  {
   "cell_type": "code",
   "execution_count": 70,
   "id": "55f8175f",
   "metadata": {},
   "outputs": [
    {
     "data": {
      "text/plain": [
       "True"
      ]
     },
     "execution_count": 70,
     "metadata": {},
     "output_type": "execute_result"
    }
   ],
   "source": [
    "ice_cream = 'I love vanilla ice cream'\n",
    "\n",
    "'love' in 'I love vanilla ice cream'"
   ]
  },
  {
   "cell_type": "code",
   "execution_count": 74,
   "id": "7d42e889",
   "metadata": {},
   "outputs": [
    {
     "data": {
      "text/plain": [
       "True"
      ]
     },
     "execution_count": 74,
     "metadata": {},
     "output_type": "execute_result"
    }
   ],
   "source": [
    "'baby' not in 'I love vanilla ice cream'"
   ]
  },
  {
   "cell_type": "markdown",
   "id": "9f595901",
   "metadata": {},
   "source": [
    "# if-elif-else statements"
   ]
  },
  {
   "cell_type": "code",
   "execution_count": 75,
   "id": "8d55d681",
   "metadata": {},
   "outputs": [
    {
     "name": "stdout",
     "output_type": "stream",
     "text": [
      "it worked\n"
     ]
    }
   ],
   "source": [
    "if 25 > 10:\n",
    "    print ('it worked')"
   ]
  },
  {
   "cell_type": "code",
   "execution_count": 77,
   "id": "8bf0e99d",
   "metadata": {},
   "outputs": [
    {
     "name": "stdout",
     "output_type": "stream",
     "text": [
      "it did not work...\n"
     ]
    }
   ],
   "source": [
    "if 25 < 10:\n",
    "    print('it worked!')\n",
    "else:\n",
    "    print('it did not work...')"
   ]
  },
  {
   "cell_type": "code",
   "execution_count": 82,
   "id": "c81545ca",
   "metadata": {},
   "outputs": [
    {
     "name": "stdout",
     "output_type": "stream",
     "text": [
      "it worked!\n",
      "this nested if statement worked\n"
     ]
    }
   ],
   "source": [
    "if (25 < 10) or (1 < 3):\n",
    "    print('it worked!')\n",
    "    if 10 > 5:\n",
    "        print('this nested if statement worked')\n",
    "elif 25 < 24:\n",
    "    print('elif worked!')\n",
    "elif 25 < 35:\n",
    "    print('elif 2 worked!')\n",
    "else:\n",
    "    print('it did not work...')"
   ]
  },
  {
   "cell_type": "code",
   "execution_count": 81,
   "id": "bfc7da6b",
   "metadata": {},
   "outputs": [
    {
     "name": "stdout",
     "output_type": "stream",
     "text": [
      "it did not work...\n"
     ]
    }
   ],
   "source": [
    "  print('it worked!') if 10 > 30 else  print('it did not work...') "
   ]
  },
  {
   "cell_type": "markdown",
   "id": "28b14868",
   "metadata": {},
   "source": [
    "# For loops"
   ]
  },
  {
   "cell_type": "code",
   "execution_count": 4,
   "id": "3720b5f7",
   "metadata": {},
   "outputs": [],
   "source": [
    "integers = [1,2,3,4,5]"
   ]
  },
  {
   "cell_type": "code",
   "execution_count": 5,
   "id": "274500f0",
   "metadata": {},
   "outputs": [
    {
     "name": "stdout",
     "output_type": "stream",
     "text": [
      "1\n",
      "2\n",
      "3\n",
      "4\n",
      "5\n"
     ]
    }
   ],
   "source": [
    "for number in integers:\n",
    "    print(number)"
   ]
  },
  {
   "cell_type": "code",
   "execution_count": 6,
   "id": "0ac56448",
   "metadata": {},
   "outputs": [
    {
     "name": "stdout",
     "output_type": "stream",
     "text": [
      "yep\n",
      "yep\n",
      "yep\n",
      "yep\n",
      "yep\n"
     ]
    }
   ],
   "source": [
    "for number in integers:\n",
    "    print('yep')"
   ]
  },
  {
   "cell_type": "code",
   "execution_count": 7,
   "id": "f2e3de02",
   "metadata": {},
   "outputs": [],
   "source": [
    "integers = [1,2,3,4,5]"
   ]
  },
  {
   "cell_type": "code",
   "execution_count": 8,
   "id": "28b8668d",
   "metadata": {},
   "outputs": [
    {
     "name": "stdout",
     "output_type": "stream",
     "text": [
      "2\n",
      "4\n",
      "6\n",
      "8\n",
      "10\n"
     ]
    }
   ],
   "source": [
    "for Jelly in integers:\n",
    "    print(Jelly + Jelly)"
   ]
  },
  {
   "cell_type": "code",
   "execution_count": 12,
   "id": "ffcd3a38",
   "metadata": {},
   "outputs": [],
   "source": [
    "ice_cream_dict = {'name': 'Noah Smith', 'weekly intake': 5, 'favorite ice-cream': ['butterscotch', 'vanilla']}"
   ]
  },
  {
   "cell_type": "code",
   "execution_count": 13,
   "id": "b06fa737",
   "metadata": {},
   "outputs": [
    {
     "name": "stdout",
     "output_type": "stream",
     "text": [
      "Noah Smith\n",
      "5\n",
      "['butterscotch', 'vanilla']\n"
     ]
    }
   ],
   "source": [
    "for cream in ice_cream_dict.values():\n",
    "    print(cream)"
   ]
  },
  {
   "cell_type": "code",
   "execution_count": 14,
   "id": "b3151617",
   "metadata": {},
   "outputs": [
    {
     "name": "stdout",
     "output_type": "stream",
     "text": [
      "name -> Noah Smith\n",
      "weekly intake -> 5\n",
      "favorite ice-cream -> ['butterscotch', 'vanilla']\n"
     ]
    }
   ],
   "source": [
    "for key, value in ice_cream_dict.items():\n",
    "    print(key,'->', value)"
   ]
  },
  {
   "cell_type": "markdown",
   "id": "4c1134a2",
   "metadata": {},
   "source": [
    "# Nested for loops"
   ]
  },
  {
   "cell_type": "code",
   "execution_count": 15,
   "id": "e88b565c",
   "metadata": {},
   "outputs": [],
   "source": [
    "flavors = ['vanilla', 'chocolate', 'strawberry']\n",
    "toppings = ['hot fudge', 'oreos', 'kitkat']"
   ]
  },
  {
   "cell_type": "code",
   "execution_count": 16,
   "id": "6f37ac6e",
   "metadata": {},
   "outputs": [
    {
     "name": "stdout",
     "output_type": "stream",
     "text": [
      "vanilla topped with hot fudge\n",
      "vanilla topped with oreos\n",
      "vanilla topped with kitkat\n",
      "chocolate topped with hot fudge\n",
      "chocolate topped with oreos\n",
      "chocolate topped with kitkat\n",
      "strawberry topped with hot fudge\n",
      "strawberry topped with oreos\n",
      "strawberry topped with kitkat\n"
     ]
    }
   ],
   "source": [
    "for one in flavors:\n",
    "    for two in toppings:\n",
    "        print(one, 'topped with', two)"
   ]
  },
  {
   "cell_type": "markdown",
   "id": "d274d76f",
   "metadata": {},
   "source": [
    "# While loops"
   ]
  },
  {
   "cell_type": "code",
   "execution_count": null,
   "id": "4765af6a",
   "metadata": {},
   "outputs": [],
   "source": [
    "number = 0\n",
    "\n",
    "while number < 5:\n",
    "    print(number)\n",
    "    if number == 3:\n",
    "        break\n",
    "    number = number + 1"
   ]
  },
  {
   "cell_type": "code",
   "execution_count": null,
   "id": "ed67bf25",
   "metadata": {},
   "outputs": [],
   "source": [
    "number = 0\n",
    "\n",
    "while number < 5:\n",
    "    print(number)\n",
    "    if number == 6:\n",
    "        break\n",
    "    number = number + 1\n",
    "else:\n",
    "    print('nolonger < 5')"
   ]
  },
  {
   "cell_type": "code",
   "execution_count": null,
   "id": "f5336f45",
   "metadata": {},
   "outputs": [],
   "source": [
    "number = 0\n",
    "\n",
    "while number < 5:\n",
    "    print(number)\n",
    "    if number == 3:\n",
    "        continue\n",
    "    number = number + 1\n",
    "else:\n",
    "    print('nolonger < 5')\n",
    "# infinite loop"
   ]
  },
  {
   "cell_type": "markdown",
   "id": "f1bd253b",
   "metadata": {},
   "source": [
    "# Functions"
   ]
  },
  {
   "cell_type": "code",
   "execution_count": null,
   "id": "48ca013b",
   "metadata": {},
   "outputs": [],
   "source": [
    "def first_func():\n",
    "    print('We did it!')"
   ]
  },
  {
   "cell_type": "code",
   "execution_count": null,
   "id": "9da53a9e",
   "metadata": {},
   "outputs": [],
   "source": [
    "first_func()"
   ]
  },
  {
   "cell_type": "code",
   "execution_count": null,
   "id": "ca698036",
   "metadata": {},
   "outputs": [],
   "source": [
    "def number_squared(number):\n",
    "    print(number**2)"
   ]
  },
  {
   "cell_type": "code",
   "execution_count": null,
   "id": "1a962f76",
   "metadata": {},
   "outputs": [],
   "source": [
    "number_squared(6)"
   ]
  },
  {
   "cell_type": "code",
   "execution_count": null,
   "id": "217db46f",
   "metadata": {},
   "outputs": [],
   "source": [
    "def number_squared_cust(number, power):\n",
    "    print(number**power)"
   ]
  },
  {
   "cell_type": "code",
   "execution_count": null,
   "id": "1ebba448",
   "metadata": {},
   "outputs": [],
   "source": [
    "number_squared_cust(5,3)"
   ]
  },
  {
   "cell_type": "code",
   "execution_count": null,
   "id": "2dfae1dd",
   "metadata": {},
   "outputs": [],
   "source": [
    "# arbitrary arguments\n",
    "\n",
    "args_tuple = (4,7,3,1)\n",
    "def number_args(*number):\n",
    "    print(number[0]*number[1])"
   ]
  },
  {
   "cell_type": "code",
   "execution_count": null,
   "id": "dae43864",
   "metadata": {},
   "outputs": [],
   "source": [
    "number_args(*args_tuple)"
   ]
  },
  {
   "cell_type": "code",
   "execution_count": null,
   "id": "556459d3",
   "metadata": {},
   "outputs": [],
   "source": [
    "\n",
    "def number_squared_cust(number, power):\n",
    "    print(number**power)"
   ]
  },
  {
   "cell_type": "code",
   "execution_count": null,
   "id": "8842ed38",
   "metadata": {},
   "outputs": [],
   "source": [
    "number_squared_cust(power = 5,number = 3)"
   ]
  },
  {
   "cell_type": "code",
   "execution_count": null,
   "id": "0f74d0a7",
   "metadata": {},
   "outputs": [],
   "source": [
    "# keyword argument\n",
    "\n",
    "def number_kwarg(**number):\n",
    "    print('mu number is :' + number['integer'] + 'my other number:' + number['integer2'])\n",
    "    "
   ]
  },
  {
   "cell_type": "code",
   "execution_count": null,
   "id": "422fa5c1",
   "metadata": {},
   "outputs": [],
   "source": [
    "number_kwarg(integer = '2003', integer2 = '7819')"
   ]
  },
  {
   "cell_type": "code",
   "execution_count": null,
   "id": "751cc718",
   "metadata": {},
   "outputs": [],
   "source": [
    "\n"
   ]
  },
  {
   "cell_type": "markdown",
   "id": "953b6961",
   "metadata": {},
   "source": [
    "# Converting data types"
   ]
  },
  {
   "cell_type": "code",
   "execution_count": null,
   "id": "4756ddfc",
   "metadata": {},
   "outputs": [],
   "source": [
    "num_int = 7\n",
    "\n",
    "type(num_int)"
   ]
  },
  {
   "cell_type": "code",
   "execution_count": null,
   "id": "c2f7b519",
   "metadata": {},
   "outputs": [],
   "source": [
    "num_str = '7'\n",
    "\n",
    "type(num_str)"
   ]
  },
  {
   "cell_type": "code",
   "execution_count": null,
   "id": "173585fc",
   "metadata": {},
   "outputs": [],
   "source": [
    "num_str_conv = int(num_str)\n",
    "\n",
    "type(num_str_conv)"
   ]
  },
  {
   "cell_type": "code",
   "execution_count": null,
   "id": "e7367cb3",
   "metadata": {},
   "outputs": [],
   "source": [
    "num_sum = num_int + num_str_conv\n",
    "\n",
    "print(num_sum)"
   ]
  },
  {
   "cell_type": "code",
   "execution_count": null,
   "id": "31d71c94",
   "metadata": {},
   "outputs": [],
   "source": [
    "list_type = [1,2,3]\n",
    "\n",
    "type(list_type)"
   ]
  },
  {
   "cell_type": "code",
   "execution_count": null,
   "id": "03ac5127",
   "metadata": {},
   "outputs": [],
   "source": [
    "type(tuple(list_type))"
   ]
  },
  {
   "cell_type": "code",
   "execution_count": null,
   "id": "d6a7b5b7",
   "metadata": {},
   "outputs": [],
   "source": [
    "list_type = [1,2,3,4,3,2,1]"
   ]
  },
  {
   "cell_type": "code",
   "execution_count": null,
   "id": "9c54af3c",
   "metadata": {},
   "outputs": [],
   "source": [
    "set(list_type)"
   ]
  },
  {
   "cell_type": "code",
   "execution_count": null,
   "id": "e72b195a",
   "metadata": {},
   "outputs": [],
   "source": [
    "type(set(list_type))"
   ]
  },
  {
   "cell_type": "code",
   "execution_count": null,
   "id": "590c64dc",
   "metadata": {},
   "outputs": [],
   "source": [
    "dict_type = {'name': 'Noah', 'age': 27, 'hair': 'black'}\n",
    "\n",
    "type(dict_type)"
   ]
  },
  {
   "cell_type": "code",
   "execution_count": null,
   "id": "b19245cd",
   "metadata": {},
   "outputs": [],
   "source": [
    "dict_type.items()"
   ]
  },
  {
   "cell_type": "code",
   "execution_count": null,
   "id": "687c4559",
   "metadata": {},
   "outputs": [],
   "source": [
    "dict_type.values()"
   ]
  },
  {
   "cell_type": "code",
   "execution_count": null,
   "id": "b6cb4c7f",
   "metadata": {},
   "outputs": [],
   "source": [
    "dict_type.keys()"
   ]
  },
  {
   "cell_type": "code",
   "execution_count": null,
   "id": "bd5d22f7",
   "metadata": {},
   "outputs": [],
   "source": [
    "list(dict_type.keys())"
   ]
  },
  {
   "cell_type": "code",
   "execution_count": null,
   "id": "eabf7a47",
   "metadata": {},
   "outputs": [],
   "source": [
    "long_str = 'I like to party'\n",
    "\n",
    "list(long_str)"
   ]
  },
  {
   "cell_type": "code",
   "execution_count": null,
   "id": "3697252e",
   "metadata": {},
   "outputs": [],
   "source": []
  }
 ],
 "metadata": {
  "kernelspec": {
   "display_name": "Python 3 (ipykernel)",
   "language": "python",
   "name": "python3"
  },
  "language_info": {
   "codemirror_mode": {
    "name": "ipython",
    "version": 3
   },
   "file_extension": ".py",
   "mimetype": "text/x-python",
   "name": "python",
   "nbconvert_exporter": "python",
   "pygments_lexer": "ipython3",
   "version": "3.9.12"
  }
 },
 "nbformat": 4,
 "nbformat_minor": 5
}
